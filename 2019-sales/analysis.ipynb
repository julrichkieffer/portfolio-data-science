{
 "cells": [
  {
   "cell_type": "markdown",
   "metadata": {},
   "source": [
    "# Analysis of 2019 Sales"
   ]
  },
  {
   "cell_type": "markdown",
   "metadata": {},
   "source": [
    "## Data Wrangling & Cleansing"
   ]
  },
  {
   "cell_type": "markdown",
   "metadata": {},
   "source": [
    "### Setup"
   ]
  },
  {
   "cell_type": "code",
   "execution_count": 126,
   "metadata": {},
   "outputs": [],
   "source": [
    "import numpy as np\n",
    "import pandas as pd\n",
    "import seaborn as sns\n",
    "\n",
    "%matplotlib inline\n",
    "%reload_ext autoreload\n",
    "%autoreload 2"
   ]
  },
  {
   "cell_type": "markdown",
   "metadata": {},
   "source": [
    "### Collate source data"
   ]
  },
  {
   "cell_type": "code",
   "execution_count": 127,
   "metadata": {},
   "outputs": [],
   "source": [
    "# import os\n",
    "\n",
    "# df = pd.DataFrame()\n",
    "\n",
    "# for file in os.listdir('./sales_data'):\n",
    "#     month = pd.read_csv(f'./sales_data/{ file }', skip_blank_lines=True)\n",
    "#     df = pd.concat([df, month], ignore_index=True, copy=False)\n",
    "#     print(f'{file} { month.shape } => { df.shape }')\n",
    "\n",
    "# df.tail()"
   ]
  },
  {
   "cell_type": "markdown",
   "metadata": {},
   "source": [
    "### Remove superfluous header rows (interleaved in the data)"
   ]
  },
  {
   "cell_type": "code",
   "execution_count": 128,
   "metadata": {},
   "outputs": [],
   "source": [
    "# df[df['Order ID'] == 'Order ID'].describe()"
   ]
  },
  {
   "cell_type": "markdown",
   "metadata": {},
   "source": [
    "Attempting to drop headers via `read_csv()` above added columns. And as\n",
    "there's `355` header rows within the data, I'm removing altogether here"
   ]
  },
  {
   "cell_type": "code",
   "execution_count": 129,
   "metadata": {},
   "outputs": [],
   "source": [
    "# # Drop header rows\n",
    "# df = df[df['Order ID'] != 'Order ID']\n",
    "\n",
    "# df[df['Order ID'] == 'Order ID'].describe()"
   ]
  },
  {
   "cell_type": "markdown",
   "metadata": {},
   "source": [
    "### Remove superfluous NaN rows"
   ]
  },
  {
   "cell_type": "code",
   "execution_count": 130,
   "metadata": {},
   "outputs": [],
   "source": [
    "# df[df.isna().any(axis=1)].info()\n",
    "# df[df.isna().any(axis=1)].tail()"
   ]
  },
  {
   "cell_type": "markdown",
   "metadata": {},
   "source": [
    "`545` rows containing `NaN` (or equivalent) in `any` column"
   ]
  },
  {
   "cell_type": "code",
   "execution_count": 131,
   "metadata": {},
   "outputs": [],
   "source": [
    "# # Drop NaN rows\n",
    "# df = df[~df.isna().any(axis=1)]\n",
    "\n",
    "# df[df.isna().any(axis=1)].info()"
   ]
  },
  {
   "cell_type": "markdown",
   "metadata": {},
   "source": [
    "### Persist combined dataframe"
   ]
  },
  {
   "cell_type": "code",
   "execution_count": 132,
   "metadata": {},
   "outputs": [],
   "source": [
    "# df.to_csv('2019-sales.cleaned.csv', index=False)"
   ]
  },
  {
   "cell_type": "markdown",
   "metadata": {},
   "source": [
    "### Reload dataframe `df` from combined file\n",
    "\n",
    "... with the added benefit that Pandas correctly identifies most column data types"
   ]
  },
  {
   "cell_type": "code",
   "execution_count": 133,
   "metadata": {},
   "outputs": [
    {
     "name": "stdout",
     "output_type": "stream",
     "text": [
      "<class 'pandas.core.frame.DataFrame'>\n",
      "RangeIndex: 185950 entries, 0 to 185949\n",
      "Data columns (total 6 columns):\n",
      " #   Column            Non-Null Count   Dtype  \n",
      "---  ------            --------------   -----  \n",
      " 0   Order ID          185950 non-null  int64  \n",
      " 1   Product           185950 non-null  object \n",
      " 2   Quantity Ordered  185950 non-null  int64  \n",
      " 3   Price Each        185950 non-null  float64\n",
      " 4   Order Date        185950 non-null  object \n",
      " 5   Purchase Address  185950 non-null  object \n",
      "dtypes: float64(1), int64(2), object(3)\n",
      "memory usage: 8.5+ MB\n"
     ]
    }
   ],
   "source": [
    "df = pd.read_csv('2019-sales.cleaned.csv')\n",
    "\n",
    "df.info()"
   ]
  },
  {
   "cell_type": "markdown",
   "metadata": {},
   "source": [
    "### Order Date => `datetime`"
   ]
  },
  {
   "cell_type": "code",
   "execution_count": 134,
   "metadata": {},
   "outputs": [
    {
     "data": {
      "text/plain": [
       "0         04/19/19 08:46\n",
       "1         04/07/19 22:30\n",
       "2         04/12/19 14:38\n",
       "3         04/12/19 14:38\n",
       "4         04/30/19 09:27\n",
       "               ...      \n",
       "185945    09/17/19 20:56\n",
       "185946    09/01/19 16:00\n",
       "185947    09/23/19 07:39\n",
       "185948    09/19/19 17:30\n",
       "185949    09/30/19 00:18\n",
       "Name: Order Date, Length: 185950, dtype: object"
      ]
     },
     "execution_count": 134,
     "metadata": {},
     "output_type": "execute_result"
    }
   ],
   "source": [
    "df['Order Date']"
   ]
  },
  {
   "cell_type": "code",
   "execution_count": 135,
   "metadata": {},
   "outputs": [
    {
     "data": {
      "text/plain": [
       "0        2019-04-19 08:46:00\n",
       "1        2019-04-07 22:30:00\n",
       "2        2019-04-12 14:38:00\n",
       "3        2019-04-12 14:38:00\n",
       "4        2019-04-30 09:27:00\n",
       "                 ...        \n",
       "185945   2019-09-17 20:56:00\n",
       "185946   2019-09-01 16:00:00\n",
       "185947   2019-09-23 07:39:00\n",
       "185948   2019-09-19 17:30:00\n",
       "185949   2019-09-30 00:18:00\n",
       "Name: Order Date, Length: 185950, dtype: datetime64[ns]"
      ]
     },
     "execution_count": 135,
     "metadata": {},
     "output_type": "execute_result"
    }
   ],
   "source": [
    "df['Order Date'] = pd.to_datetime(df['Order Date'], format='%m/%d/%y %H:%M')\n",
    "df['Order Date']"
   ]
  },
  {
   "cell_type": "code",
   "execution_count": 136,
   "metadata": {},
   "outputs": [
    {
     "name": "stdout",
     "output_type": "stream",
     "text": [
      "<class 'pandas.core.frame.DataFrame'>\n",
      "RangeIndex: 185950 entries, 0 to 185949\n",
      "Data columns (total 6 columns):\n",
      " #   Column            Non-Null Count   Dtype         \n",
      "---  ------            --------------   -----         \n",
      " 0   Order ID          185950 non-null  int64         \n",
      " 1   Product           185950 non-null  object        \n",
      " 2   Quantity Ordered  185950 non-null  int64         \n",
      " 3   Price Each        185950 non-null  float64       \n",
      " 4   Order Date        185950 non-null  datetime64[ns]\n",
      " 5   Purchase Address  185950 non-null  object        \n",
      "dtypes: datetime64[ns](1), float64(1), int64(2), object(2)\n",
      "memory usage: 8.5+ MB\n"
     ]
    }
   ],
   "source": [
    "df.info()"
   ]
  },
  {
   "cell_type": "markdown",
   "metadata": {},
   "source": [
    "## Data Elaboration"
   ]
  },
  {
   "cell_type": "code",
   "execution_count": 137,
   "metadata": {},
   "outputs": [
    {
     "data": {
      "text/html": [
       "<div>\n",
       "<style scoped>\n",
       "    .dataframe tbody tr th:only-of-type {\n",
       "        vertical-align: middle;\n",
       "    }\n",
       "\n",
       "    .dataframe tbody tr th {\n",
       "        vertical-align: top;\n",
       "    }\n",
       "\n",
       "    .dataframe thead th {\n",
       "        text-align: right;\n",
       "    }\n",
       "</style>\n",
       "<table border=\"1\" class=\"dataframe\">\n",
       "  <thead>\n",
       "    <tr style=\"text-align: right;\">\n",
       "      <th></th>\n",
       "      <th>Order ID</th>\n",
       "      <th>Product</th>\n",
       "      <th>Quantity Ordered</th>\n",
       "      <th>Price Each</th>\n",
       "      <th>Order Date</th>\n",
       "      <th>Purchase Address</th>\n",
       "    </tr>\n",
       "  </thead>\n",
       "  <tbody>\n",
       "    <tr>\n",
       "      <th>0</th>\n",
       "      <td>176558</td>\n",
       "      <td>USB-C Charging Cable</td>\n",
       "      <td>2</td>\n",
       "      <td>11.95</td>\n",
       "      <td>2019-04-19 08:46:00</td>\n",
       "      <td>917 1st St, Dallas, TX 75001</td>\n",
       "    </tr>\n",
       "    <tr>\n",
       "      <th>1</th>\n",
       "      <td>176559</td>\n",
       "      <td>Bose SoundSport Headphones</td>\n",
       "      <td>1</td>\n",
       "      <td>99.99</td>\n",
       "      <td>2019-04-07 22:30:00</td>\n",
       "      <td>682 Chestnut St, Boston, MA 02215</td>\n",
       "    </tr>\n",
       "    <tr>\n",
       "      <th>2</th>\n",
       "      <td>176560</td>\n",
       "      <td>Google Phone</td>\n",
       "      <td>1</td>\n",
       "      <td>600.00</td>\n",
       "      <td>2019-04-12 14:38:00</td>\n",
       "      <td>669 Spruce St, Los Angeles, CA 90001</td>\n",
       "    </tr>\n",
       "    <tr>\n",
       "      <th>3</th>\n",
       "      <td>176560</td>\n",
       "      <td>Wired Headphones</td>\n",
       "      <td>1</td>\n",
       "      <td>11.99</td>\n",
       "      <td>2019-04-12 14:38:00</td>\n",
       "      <td>669 Spruce St, Los Angeles, CA 90001</td>\n",
       "    </tr>\n",
       "    <tr>\n",
       "      <th>4</th>\n",
       "      <td>176561</td>\n",
       "      <td>Wired Headphones</td>\n",
       "      <td>1</td>\n",
       "      <td>11.99</td>\n",
       "      <td>2019-04-30 09:27:00</td>\n",
       "      <td>333 8th St, Los Angeles, CA 90001</td>\n",
       "    </tr>\n",
       "  </tbody>\n",
       "</table>\n",
       "</div>"
      ],
      "text/plain": [
       "   Order ID                     Product  Quantity Ordered  Price Each  \\\n",
       "0    176558        USB-C Charging Cable                 2       11.95   \n",
       "1    176559  Bose SoundSport Headphones                 1       99.99   \n",
       "2    176560                Google Phone                 1      600.00   \n",
       "3    176560            Wired Headphones                 1       11.99   \n",
       "4    176561            Wired Headphones                 1       11.99   \n",
       "\n",
       "           Order Date                      Purchase Address  \n",
       "0 2019-04-19 08:46:00          917 1st St, Dallas, TX 75001  \n",
       "1 2019-04-07 22:30:00     682 Chestnut St, Boston, MA 02215  \n",
       "2 2019-04-12 14:38:00  669 Spruce St, Los Angeles, CA 90001  \n",
       "3 2019-04-12 14:38:00  669 Spruce St, Los Angeles, CA 90001  \n",
       "4 2019-04-30 09:27:00     333 8th St, Los Angeles, CA 90001  "
      ]
     },
     "execution_count": 137,
     "metadata": {},
     "output_type": "execute_result"
    }
   ],
   "source": [
    "df.head()"
   ]
  }
 ],
 "metadata": {
  "kernelspec": {
   "display_name": "Python 3",
   "language": "python",
   "name": "python3"
  },
  "language_info": {
   "codemirror_mode": {
    "name": "ipython",
    "version": 3
   },
   "file_extension": ".py",
   "mimetype": "text/x-python",
   "name": "python",
   "nbconvert_exporter": "python",
   "pygments_lexer": "ipython3",
   "version": "3.11.6"
  }
 },
 "nbformat": 4,
 "nbformat_minor": 2
}
